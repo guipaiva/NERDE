{
 "cells": [
  {
   "cell_type": "code",
   "execution_count": 1,
   "metadata": {},
   "outputs": [],
   "source": [
    "from sklearn.model_selection import train_test_split\n",
    "import os\n",
    "import shutil"
   ]
  },
  {
   "cell_type": "code",
   "execution_count": 2,
   "metadata": {},
   "outputs": [],
   "source": [
    "source = '../dataset/all/'\n",
    "train_dest = '../dataset/train/'\n",
    "dev_dest = '../dataset/dev/'\n",
    "test_dest = '../dataset/test/'"
   ]
  },
  {
   "cell_type": "code",
   "execution_count": 3,
   "metadata": {},
   "outputs": [],
   "source": [
    "os.makedirs(train_dest, exist_ok=True)\n",
    "os.makedirs(dev_dest, exist_ok=True)\n",
    "os.makedirs(test_dest, exist_ok=True)"
   ]
  },
  {
   "cell_type": "code",
   "execution_count": 4,
   "metadata": {},
   "outputs": [],
   "source": [
    "files = os.listdir(source)\n",
    "conll_files = [file for file in files if file.endswith('.conll')]"
   ]
  },
  {
   "cell_type": "code",
   "execution_count": 5,
   "metadata": {},
   "outputs": [],
   "source": [
    "train_ratio = 70\n",
    "dev_ratio = 15\n",
    "test_ratio = 15"
   ]
  },
  {
   "cell_type": "code",
   "execution_count": 6,
   "metadata": {},
   "outputs": [],
   "source": [
    "train, test = train_test_split(conll_files, test_size= (100-train_ratio)/100, random_state=7)\n",
    "dev, test = train_test_split(test, test_size=test_ratio/(test_ratio+dev_ratio), random_state=7)"
   ]
  },
  {
   "cell_type": "code",
   "execution_count": 7,
   "metadata": {},
   "outputs": [
    {
     "data": {
      "text/plain": [
       "(70, 15, 15)"
      ]
     },
     "execution_count": 7,
     "metadata": {},
     "output_type": "execute_result"
    }
   ],
   "source": [
    "len(train), len(test), len(dev)"
   ]
  },
  {
   "cell_type": "code",
   "execution_count": 9,
   "metadata": {},
   "outputs": [],
   "source": [
    "with open(os.path.join(train_dest, 'train.conll'),'w') as f:\n",
    "    for doc in train:\n",
    "        src_fname = os.path.join(source, doc)\n",
    "        dst_fname = os.path.join(train_dest, doc)\n",
    "        shutil.copy(src_fname, dst_fname)\n",
    "        with open(src_fname, 'r') as g:\n",
    "            text = g.read()\n",
    "            f.write(text)"
   ]
  },
  {
   "cell_type": "code",
   "execution_count": 10,
   "metadata": {},
   "outputs": [],
   "source": [
    "with open(os.path.join(dev_dest, 'dev.conll'),'w') as f:\n",
    "    for doc in dev:\n",
    "        src_fname = os.path.join(source, doc)\n",
    "        dst_fname = os.path.join(dev_dest, doc)\n",
    "        shutil.copy(src_fname, dst_fname)\n",
    "        with open(src_fname, 'r') as g:\n",
    "            text = g.read()\n",
    "            f.write(text)"
   ]
  },
  {
   "cell_type": "code",
   "execution_count": 11,
   "metadata": {},
   "outputs": [],
   "source": [
    "with open(os.path.join(test_dest, 'test.conll'),'w') as f:\n",
    "    for doc in test:\n",
    "        src_fname = os.path.join(source, doc)\n",
    "        dst_fname = os.path.join(test_dest, doc)\n",
    "        shutil.copy(src_fname, dst_fname)\n",
    "        with open(src_fname, 'r') as g:\n",
    "            text = g.read()\n",
    "            f.write(text)"
   ]
  }
 ],
 "metadata": {
  "kernelspec": {
   "display_name": "Python 3.8.10 ('venv': venv)",
   "language": "python",
   "name": "python3"
  },
  "language_info": {
   "codemirror_mode": {
    "name": "ipython",
    "version": 3
   },
   "file_extension": ".py",
   "mimetype": "text/x-python",
   "name": "python",
   "nbconvert_exporter": "python",
   "pygments_lexer": "ipython3",
   "version": "3.8.10"
  },
  "orig_nbformat": 4,
  "vscode": {
   "interpreter": {
    "hash": "6e48e09a6fa42eb9d7fcce203cae01b0981b0aec130f03992a3a4940edecbb98"
   }
  }
 },
 "nbformat": 4,
 "nbformat_minor": 2
}

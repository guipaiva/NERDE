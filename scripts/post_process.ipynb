{
 "cells": [
  {
   "cell_type": "code",
   "execution_count": 2,
   "metadata": {},
   "outputs": [],
   "source": [
    "import re\n",
    "import jsonl_io"
   ]
  },
  {
   "cell_type": "code",
   "execution_count": null,
   "metadata": {},
   "outputs": [],
   "source": [
    "def post_process(doc):\n",
    "    def multiline_label(doc):\n",
    "        final_text = ''\n",
    "        prev_idx = 0\n",
    "        text = doc['data']\n",
    "        all_labels = sorted(doc['label'])\n",
    "\n",
    "        for start, end, _ in all_labels:\n",
    "            final_text += text[prev_idx:start]\n",
    "            prev_idx = end\n",
    "            ent_text = text[start:end].replace('\\n', ' ')\n",
    "            final_text += ent_text\n",
    "            \n",
    "        return final_text\n",
    "    roman_numerals = re.compile(r\"(^|\\s)([IVX]+\\.)\\n\", re.IGNORECASE)\n",
    "    number = re.compile(\"(^|\\s)(\\d\\.(?:\\d\\.*)*)\\n\")\n",
    "    \n",
    "    #fix multiline labels\n",
    "    text = multiline_label(doc)\n",
    "    #fix numberal numbers split\n",
    "    text = re.sub(roman_numerals, r\"\\1\\2 \", text)\n",
    "    #fix numbered itens split\n",
    "    text = re.sub(number, r\"\\1\\2 \", text)\n",
    "\n",
    "    doc['data'] = text\n",
    "    \n",
    "    return doc\n",
    "    "
   ]
  },
  {
   "cell_type": "code",
   "execution_count": null,
   "metadata": {},
   "outputs": [],
   "source": [
    "annotated_data = jsonl_io.read_jsonl('../doccano_filtered.jsonl')\n",
    "processed_filename = '../processed.jsonl'\n",
    "processed_list = [post_process(doc) for doc in annotated_data]\n",
    "jsonl_io.write_jsonl(processed_filename, processed_list)"
   ]
  }
 ],
 "metadata": {
  "kernelspec": {
   "display_name": "Python 3.8.10 64-bit",
   "language": "python",
   "name": "python3"
  },
  "language_info": {
   "codemirror_mode": {
    "name": "ipython",
    "version": 3
   },
   "file_extension": ".py",
   "mimetype": "text/x-python",
   "name": "python",
   "nbconvert_exporter": "python",
   "pygments_lexer": "ipython3",
   "version": "3.8.10"
  },
  "orig_nbformat": 4,
  "vscode": {
   "interpreter": {
    "hash": "31f2aee4e71d21fbe5cf8b01ff0e069b9275f58929596ceb00d14d90e3e16cd6"
   }
  }
 },
 "nbformat": 4,
 "nbformat_minor": 2
}

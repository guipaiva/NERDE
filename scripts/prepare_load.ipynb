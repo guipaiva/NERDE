{
 "cells": [
  {
   "cell_type": "code",
   "execution_count": 24,
   "metadata": {},
   "outputs": [],
   "source": [
    "import pysolr\n",
    "from requests.auth import HTTPBasicAuth\n",
    "import credentials\n",
    "import pandas as pd\n",
    "import nltk\n",
    "from nltk.tokenize import sent_tokenize\n",
    "from nltk import word_tokenize\n",
    "import pickle\n",
    "import json\n",
    "from itertools import chain\n",
    "import os\n",
    "import re"
   ]
  },
  {
   "cell_type": "code",
   "execution_count": 3,
   "metadata": {},
   "outputs": [],
   "source": [
    "with open('abbrev_list.pkl','rb') as f:\n",
    "    abbrev_list = pickle.load(f)\n",
    "sentence_tokenizer = nltk.data.load('tokenizers/punkt/portuguese.pickle')\n",
    "sentence_tokenizer._params.abbrev_types.update(abbrev_list)"
   ]
  },
  {
   "cell_type": "code",
   "execution_count": 11,
   "metadata": {},
   "outputs": [],
   "source": [
    "solr_client = pysolr.Solr(\n",
    "    credentials.solr_url,\n",
    "    auth= HTTPBasicAuth(\n",
    "        credentials.solr_login['username'],\n",
    "        credentials.solr_login['password']\n",
    "    )\n",
    ")\n",
    "solr_client.ping();"
   ]
  },
  {
   "cell_type": "code",
   "execution_count": 44,
   "metadata": {},
   "outputs": [],
   "source": [
    "def get_cleaned_lines(text):\n",
    "    return [line.strip() for line in text.splitlines() if line.strip()]"
   ]
  },
  {
   "cell_type": "code",
   "execution_count": 35,
   "metadata": {},
   "outputs": [],
   "source": [
    "def get_tokenized_text(text):\n",
    "    #sentence_tokenizer.train(text)\n",
    "    lines = [line.strip() for line in text.splitlines() if line.strip()]\n",
    "    text = ' '.join(lines)\n",
    "    sentence_tokenizer.train(text)\n",
    "    sents_chained = [sentence_tokenizer.tokenize(line) for line in lines]\n",
    "    sents = list(chain.from_iterable(sents_chained))\n",
    "    return '\\n'.join(sents)"
   ]
  },
  {
   "cell_type": "code",
   "execution_count": 15,
   "metadata": {},
   "outputs": [],
   "source": [
    "def get_doc_text(query):\n",
    "    query_body = query\n",
    "    fq = 'colecao:jurisprudencia OR colecao:parecer_tecnico'\n",
    "    doc_fields = ['numero_sei', 'conteudo', 'descricao_tipo_documento', 'descricao_tipo_documento_pj']\n",
    "    query_args = {\n",
    "        \"fl\": doc_fields,\n",
    "        \"fq\": fq,\n",
    "        \"rows\": 1\n",
    "    }\n",
    "    res = solr_client.search(query_body, **query_args)\n",
    "    doc = res.docs[0]\n",
    "    \n",
    "    tp_doc = doc.get('descricao_tipo_documento') or doc.get('descricao_tipo_documento_pj')\n",
    "    doc['tipo_documento'] = tp_doc\n",
    "    doc.pop('descricao_tipo_documento')\n",
    "    doc.pop('descricao_tipo_documento_pj')\n",
    "\n",
    "    return doc"
   ]
  },
  {
   "cell_type": "code",
   "execution_count": 49,
   "metadata": {},
   "outputs": [],
   "source": [
    "with open('new_docs.txt','r') as f:\n",
    "    new_docs = f.read().splitlines()"
   ]
  },
  {
   "cell_type": "code",
   "execution_count": 17,
   "metadata": {},
   "outputs": [],
   "source": [
    "folder_path = '/home/gpaiva/Documents/CADE/Annotation/Dataset/new50'"
   ]
  },
  {
   "cell_type": "code",
   "execution_count": 41,
   "metadata": {},
   "outputs": [],
   "source": [
    "origem = 'SEI_CADE'"
   ]
  },
  {
   "cell_type": "code",
   "execution_count": 59,
   "metadata": {},
   "outputs": [],
   "source": [
    "all_path = os.path.join(folder_path, 'all.jsonl')\n",
    "open(all_path, 'w').close()\n",
    "\n",
    "for n_sei in new_docs:\n",
    "    doc = get_doc_text(f'numero_sei:{n_sei}')\n",
    "    prepared_text = get_tokenized_text(doc['conteudo'])\n",
    "    doc['data'] = prepared_text\n",
    "    doc['origem'] = origem\n",
    "    doc['n_sei'] = doc.pop('numero_sei')\n",
    "    doc.pop('conteudo')\n",
    "    filename = os.path.join(folder_path, f'{n_sei}.json')\n",
    "    with open(filename, 'w') as f:\n",
    "        json.dump(doc, f, ensure_ascii=False)\n",
    "    with open(all_path, 'a') as f:\n",
    "        json.dump(doc, f, ensure_ascii=False)\n",
    "        f.write('\\n')"
   ]
  }
 ],
 "metadata": {
  "kernelspec": {
   "display_name": "Python 3.8.10 64-bit",
   "language": "python",
   "name": "python3"
  },
  "language_info": {
   "codemirror_mode": {
    "name": "ipython",
    "version": 3
   },
   "file_extension": ".py",
   "mimetype": "text/x-python",
   "name": "python",
   "nbconvert_exporter": "python",
   "pygments_lexer": "ipython3",
   "version": "3.8.10"
  },
  "orig_nbformat": 4,
  "vscode": {
   "interpreter": {
    "hash": "31f2aee4e71d21fbe5cf8b01ff0e069b9275f58929596ceb00d14d90e3e16cd6"
   }
  }
 },
 "nbformat": 4,
 "nbformat_minor": 2
}

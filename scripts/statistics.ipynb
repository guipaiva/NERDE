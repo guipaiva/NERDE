{
 "cells": [
  {
   "cell_type": "code",
   "execution_count": 1,
   "metadata": {},
   "outputs": [],
   "source": [
    "import os\n",
    "import json\n",
    "from nltk import word_tokenize\n",
    "import nltk\n",
    "from itertools import chain\n",
    "import pandas as pd"
   ]
  },
  {
   "cell_type": "code",
   "execution_count": 2,
   "metadata": {},
   "outputs": [],
   "source": [
    "data = []"
   ]
  },
  {
   "cell_type": "code",
   "execution_count": 3,
   "metadata": {},
   "outputs": [
    {
     "data": {
      "text/plain": [
       "['.vscode', 'scripts', '.gitignore', '.git', 'venv', 'dataset']"
      ]
     },
     "execution_count": 3,
     "metadata": {},
     "output_type": "execute_result"
    }
   ],
   "source": [
    "os.listdir('../')"
   ]
  },
  {
   "cell_type": "code",
   "execution_count": 4,
   "metadata": {},
   "outputs": [],
   "source": [
    "data = []"
   ]
  },
  {
   "cell_type": "code",
   "execution_count": 5,
   "metadata": {},
   "outputs": [],
   "source": [
    "all_tokens = []\n",
    "with open('/home/zerum/Documentos/NER/dataset/all.jsonl', 'r') as f:\n",
    "    docs = f.readlines()\n",
    "    for tx_doc in docs:\n",
    "        try:\n",
    "            doc = json.loads(tx_doc)\n",
    "        except Exception as e:\n",
    "            print('Erro ', str(e))\n",
    "            print(tx_doc)\n",
    "            break\n",
    "        sents = doc['data'].splitlines()\n",
    "        tokens_chained = [word_tokenize(sent, language='portuguese', preserve_line=True) for sent in sents]\n",
    "        tokens = list(chain.from_iterable(tokens_chained))\n",
    "        data.append([doc['n_sei'], doc['tipo_documento'], len(tokens)])\n",
    "        all_tokens.extend(tokens)\n",
    "        "
   ]
  },
  {
   "cell_type": "code",
   "execution_count": 6,
   "metadata": {},
   "outputs": [],
   "source": [
    "df = pd.DataFrame(data, columns=['Numero Sei', 'Tipo Doc', '# Tokens'])"
   ]
  },
  {
   "cell_type": "code",
   "execution_count": 7,
   "metadata": {},
   "outputs": [
    {
     "data": {
      "text/plain": [
       "290355"
      ]
     },
     "execution_count": 7,
     "metadata": {},
     "output_type": "execute_result"
    }
   ],
   "source": [
    "len(all_tokens)"
   ]
  },
  {
   "cell_type": "code",
   "execution_count": 10,
   "metadata": {},
   "outputs": [
    {
     "data": {
      "text/html": [
       "<div>\n",
       "<style scoped>\n",
       "    .dataframe tbody tr th:only-of-type {\n",
       "        vertical-align: middle;\n",
       "    }\n",
       "\n",
       "    .dataframe tbody tr th {\n",
       "        vertical-align: top;\n",
       "    }\n",
       "\n",
       "    .dataframe thead th {\n",
       "        text-align: right;\n",
       "    }\n",
       "</style>\n",
       "<table border=\"1\" class=\"dataframe\">\n",
       "  <thead>\n",
       "    <tr style=\"text-align: right;\">\n",
       "      <th></th>\n",
       "      <th>Numero Sei</th>\n",
       "      <th>Tipo Doc</th>\n",
       "      <th># Tokens</th>\n",
       "    </tr>\n",
       "  </thead>\n",
       "  <tbody>\n",
       "    <tr>\n",
       "      <th>0</th>\n",
       "      <td>0873077</td>\n",
       "      <td>Voto Ato de Concentração</td>\n",
       "      <td>2495</td>\n",
       "    </tr>\n",
       "    <tr>\n",
       "      <th>1</th>\n",
       "      <td>0047798</td>\n",
       "      <td>Parecer</td>\n",
       "      <td>2495</td>\n",
       "    </tr>\n",
       "    <tr>\n",
       "      <th>2</th>\n",
       "      <td>0358865</td>\n",
       "      <td>Nota Técnica</td>\n",
       "      <td>2987</td>\n",
       "    </tr>\n",
       "    <tr>\n",
       "      <th>3</th>\n",
       "      <td>0928426</td>\n",
       "      <td>Voto Requerimento de TCC</td>\n",
       "      <td>2644</td>\n",
       "    </tr>\n",
       "    <tr>\n",
       "      <th>4</th>\n",
       "      <td>0909982</td>\n",
       "      <td>Voto Ato de Concentração</td>\n",
       "      <td>2512</td>\n",
       "    </tr>\n",
       "    <tr>\n",
       "      <th>...</th>\n",
       "      <td>...</td>\n",
       "      <td>...</td>\n",
       "      <td>...</td>\n",
       "    </tr>\n",
       "    <tr>\n",
       "      <th>95</th>\n",
       "      <td>0346501</td>\n",
       "      <td>Voto</td>\n",
       "      <td>2970</td>\n",
       "    </tr>\n",
       "    <tr>\n",
       "      <th>96</th>\n",
       "      <td>0125469</td>\n",
       "      <td>Parecer MPF</td>\n",
       "      <td>2520</td>\n",
       "    </tr>\n",
       "    <tr>\n",
       "      <th>97</th>\n",
       "      <td>0491334</td>\n",
       "      <td>Parecer MPF</td>\n",
       "      <td>3259</td>\n",
       "    </tr>\n",
       "    <tr>\n",
       "      <th>98</th>\n",
       "      <td>0921351</td>\n",
       "      <td>Voto Processo Administrativo</td>\n",
       "      <td>3438</td>\n",
       "    </tr>\n",
       "    <tr>\n",
       "      <th>99</th>\n",
       "      <td>0324358</td>\n",
       "      <td>Anexo Nota Técnica SG</td>\n",
       "      <td>4571</td>\n",
       "    </tr>\n",
       "  </tbody>\n",
       "</table>\n",
       "<p>100 rows × 3 columns</p>\n",
       "</div>"
      ],
      "text/plain": [
       "   Numero Sei                      Tipo Doc  # Tokens\n",
       "0     0873077      Voto Ato de Concentração      2495\n",
       "1     0047798                       Parecer      2495\n",
       "2     0358865                  Nota Técnica      2987\n",
       "3     0928426      Voto Requerimento de TCC      2644\n",
       "4     0909982      Voto Ato de Concentração      2512\n",
       "..        ...                           ...       ...\n",
       "95    0346501                          Voto      2970\n",
       "96    0125469                   Parecer MPF      2520\n",
       "97    0491334                   Parecer MPF      3259\n",
       "98    0921351  Voto Processo Administrativo      3438\n",
       "99    0324358         Anexo Nota Técnica SG      4571\n",
       "\n",
       "[100 rows x 3 columns]"
      ]
     },
     "execution_count": 10,
     "metadata": {},
     "output_type": "execute_result"
    }
   ],
   "source": [
    "df"
   ]
  }
 ],
 "metadata": {
  "kernelspec": {
   "display_name": "Python 3.8.10 ('venv': venv)",
   "language": "python",
   "name": "python3"
  },
  "language_info": {
   "codemirror_mode": {
    "name": "ipython",
    "version": 3
   },
   "file_extension": ".py",
   "mimetype": "text/x-python",
   "name": "python",
   "nbconvert_exporter": "python",
   "pygments_lexer": "ipython3",
   "version": "3.8.10"
  },
  "orig_nbformat": 4,
  "vscode": {
   "interpreter": {
    "hash": "6e48e09a6fa42eb9d7fcce203cae01b0981b0aec130f03992a3a4940edecbb98"
   }
  }
 },
 "nbformat": 4,
 "nbformat_minor": 2
}

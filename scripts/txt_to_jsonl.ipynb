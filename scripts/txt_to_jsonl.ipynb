{
 "cells": [
  {
   "cell_type": "code",
   "execution_count": 140,
   "metadata": {},
   "outputs": [],
   "source": [
    "import json\n",
    "import re\n",
    "import os\n",
    "from os.path import join as pathjoin\n",
    "import ftfy"
   ]
  },
  {
   "cell_type": "code",
   "execution_count": 155,
   "metadata": {},
   "outputs": [],
   "source": [
    "input_files_path = './Original'\n",
    "output_files_path = './Converted'\n",
    "output_filename = pathjoin(output_files_path,'all.jsonl')"
   ]
  },
  {
   "cell_type": "code",
   "execution_count": 142,
   "metadata": {},
   "outputs": [],
   "source": [
    "files = []\n",
    "for dp, dn, filenames in os.walk(input_files_path):\n",
    "    files.extend([(dp, f) for f in filenames if f.endswith('.txt')])"
   ]
  },
  {
   "cell_type": "code",
   "execution_count": 143,
   "metadata": {},
   "outputs": [
    {
     "data": {
      "text/plain": [
       "50"
      ]
     },
     "execution_count": 143,
     "metadata": {},
     "output_type": "execute_result"
    }
   ],
   "source": [
    "len(files)"
   ]
  },
  {
   "cell_type": "code",
   "execution_count": 156,
   "metadata": {},
   "outputs": [],
   "source": [
    "fj = open(output_filename, 'w')\n",
    "for path, filename in files:\n",
    "    with open(os.path.join(path, filename), 'r', encoding='cp1252') as f:\n",
    "        text = f.read()\n",
    "    cleaned = ftfy.fix_text(text)\n",
    "    origem, n_sei, tipo_doc = re.search('([\\w ]+)[ +]-[ +](\\d+)[ +]-[ +]([\\w ]+)', filename).groups()\n",
    "    obj = {\n",
    "        'text': cleaned,\n",
    "        'origem': origem,\n",
    "        'n_sei': n_sei,\n",
    "        'tipo_documento': tipo_doc\n",
    "    }\n",
    "    out_file = pathjoin(output_files_path, n_sei) + '.txt'\n",
    "    with open(out_file, 'w', encoding='utf-8') as out:\n",
    "        out.write(cleaned)\n",
    "    fj.write(json.dumps(obj, ensure_ascii=False) + '\\n')\n",
    "fj.close()"
   ]
  }
 ],
 "metadata": {
  "interpreter": {
   "hash": "31f2aee4e71d21fbe5cf8b01ff0e069b9275f58929596ceb00d14d90e3e16cd6"
  },
  "kernelspec": {
   "display_name": "Python 3.8.10 64-bit",
   "language": "python",
   "name": "python3"
  },
  "language_info": {
   "codemirror_mode": {
    "name": "ipython",
    "version": 3
   },
   "file_extension": ".py",
   "mimetype": "text/x-python",
   "name": "python",
   "nbconvert_exporter": "python",
   "pygments_lexer": "ipython3",
   "version": "3.8.10"
  },
  "orig_nbformat": 4
 },
 "nbformat": 4,
 "nbformat_minor": 2
}
